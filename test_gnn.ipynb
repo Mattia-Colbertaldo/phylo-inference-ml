{
 "cells": [
  {
   "cell_type": "markdown",
   "metadata": {},
   "source": [
    "## Importing libraries"
   ]
  },
  {
   "cell_type": "code",
   "execution_count": 10,
   "metadata": {},
   "outputs": [],
   "source": [
    "import torch\n",
    "from torch_geometric.data import Data\n",
    "from torch_geometric.data import InMemoryDataset\n",
    "from torch_geometric.loader import DataLoader\n",
    "import torch.nn.functional as F\n",
    "from torch_geometric.nn import GCNConv\n",
    "import rpy2.robjects as robjects\n",
    "from rpy2.robjects import pandas2ri"
   ]
  },
  {
   "cell_type": "code",
   "execution_count": 3,
   "metadata": {},
   "outputs": [
    {
     "name": "stderr",
     "output_type": "stream",
     "text": [
      "Warning: namespace ‘torch’ is not available and has been replaced\n",
      "by .GlobalEnv when processing object ‘test_dl’\n",
      "Warning: namespace ‘R6’ is not available and has been replaced\n",
      "by .GlobalEnv when processing object ‘test_dl’\n",
      "Warning: namespace ‘luz’ is not available and has been replaced\n",
      "by .GlobalEnv when processing object ‘dnn.fit’\n",
      "Warning: namespace ‘progress’ is not available and has been replaced\n",
      "by .GlobalEnv when processing object ‘dnn.fit’\n"
     ]
    }
   ],
   "source": [
    "pandas2ri.activate()\n",
    "\n",
    "fname_graph = \"test_save_df.rds\"\n",
    "fname_param = \"trees-dataset/ntrees-10000-ntaxa-100-1000-lambda-0.1-1-epsilon-0-0.9-q-0.01-0.1-sscheck-TRUE-param.rds\"\n",
    "\n",
    "readRDS = robjects.r['readRDS']\n",
    "df_graph = readRDS(fname_graph)\n",
    "df_graph = pandas2ri.rpy2py(df_graph)\n",
    "df_param = readRDS(fname_param)\n",
    "df_param = pandas2ri.rpy2py(df_param)"
   ]
  },
  {
   "cell_type": "code",
   "execution_count": 4,
   "metadata": {},
   "outputs": [],
   "source": [
    "n_param = len(df_param)\n",
    "n_trees = len(df_graph)"
   ]
  },
  {
   "cell_type": "code",
   "execution_count": 65,
   "metadata": {},
   "outputs": [],
   "source": [
    "def convert_df_to_tensor(df_node, df_edge, params):\n",
    "\n",
    "    n_node, n_edge = df_node.shape[0], df_edge.shape[0]\n",
    "\n",
    "    l1, l2 = [], []\n",
    "    \n",
    "    for i in range(n_edge):\n",
    "        edge = df_edge.iloc[i]\n",
    "        u, v = edge[0]-1, edge[1]-1\n",
    "        l1 = l1 + [u,v]\n",
    "        l2 = l2 + [v,u]\n",
    "\n",
    "    edge_index = torch.tensor([l1,l2], dtype=torch.long)\n",
    "\n",
    "    x = []\n",
    "\n",
    "    for i in range(n_node):\n",
    "        node_attr = list(df_node.iloc[i])\n",
    "        x.append(node_attr)\n",
    "\n",
    "    x = torch.tensor(x, dtype = torch.float)\n",
    "\n",
    "    y = torch.tensor(params, dtype = torch.float)\n",
    "\n",
    "    data = Data(x = x, edge_index = edge_index, y = y)\n",
    "\n",
    "    return(data)"
   ]
  },
  {
   "cell_type": "code",
   "execution_count": 66,
   "metadata": {},
   "outputs": [],
   "source": [
    "data_list = []\n",
    "\n",
    "for n in range(n_trees):\n",
    "    df_node, df_edge = df_graph[n][0], df_graph[n][1]\n",
    "    params = [df_param[i][n] for i in range(n_param)]\n",
    "    data = convert_df_to_tensor(df_node, df_edge, params)\n",
    "    data_list.append(data)\n",
    "\n",
    "dataloader = DataLoader(data_list, batch_size=1)"
   ]
  },
  {
   "cell_type": "code",
   "execution_count": 34,
   "metadata": {},
   "outputs": [],
   "source": [
    "x = torch.tensor([[-10,1],[-6,1],[0,1]], dtype=torch.float)\n",
    "edge_index = torch.tensor([[0,1,1,2],\n",
    "                           [1,0,2,1]], dtype=torch.long)\n",
    "#print(edge_index.size())\n",
    "#edge_attr = torch.tensor([[4],[4],[6],[6]])\n",
    "y = torch.tensor([1,2], dtype=torch.float)\n",
    "\n",
    "data = Data(x=x, edge_index=edge_index, y=y)\n",
    "#device = \"cuda:0\"\n",
    "#data.to(device=device)"
   ]
  },
  {
   "cell_type": "code",
   "execution_count": 70,
   "metadata": {},
   "outputs": [],
   "source": [
    "class GCN(torch.nn.Module):\n",
    "    def __init__(self):\n",
    "        super().__init__()\n",
    "        self.conv1 = GCNConv(data.num_node_features, 16)\n",
    "        self.conv2 = GCNConv(16, 6)\n",
    "        #self.lin   = torch.nn.Linear(8,6)\n",
    "\n",
    "    def forward(self, data):\n",
    "        x, edge_index = data.x, data.edge_index\n",
    "        x = self.conv1(x, edge_index)\n",
    "        x = F.relu(x)\n",
    "        x = F.dropout(x, training=self.training)\n",
    "        x = self.conv2(x, edge_index)\n",
    "        #flatten = torch.nn.Flatten(start_dim=-2)\n",
    "        #x = flatten(x)\n",
    "        #x = self.lin(x)\n",
    "\n",
    "        return x"
   ]
  },
  {
   "cell_type": "code",
   "execution_count": 19,
   "metadata": {},
   "outputs": [
    {
     "data": {
      "text/plain": [
       "1851"
      ]
     },
     "execution_count": 19,
     "metadata": {},
     "output_type": "execute_result"
    }
   ],
   "source": [
    "data.num_nodes"
   ]
  },
  {
   "cell_type": "code",
   "execution_count": 72,
   "metadata": {},
   "outputs": [
    {
     "name": "stderr",
     "output_type": "stream",
     "text": [
      "/tmp/ipykernel_28749/428982251.py:11: UserWarning: Using a target size (torch.Size([6])) that is different to the input size (torch.Size([1851, 6])). This will likely lead to incorrect results due to broadcasting. Please ensure they have the same size.\n",
      "  loss = F.mse_loss(out, data.y)\n",
      "/tmp/ipykernel_28749/428982251.py:11: UserWarning: Using a target size (torch.Size([6])) that is different to the input size (torch.Size([1339, 6])). This will likely lead to incorrect results due to broadcasting. Please ensure they have the same size.\n",
      "  loss = F.mse_loss(out, data.y)\n",
      "/tmp/ipykernel_28749/428982251.py:11: UserWarning: Using a target size (torch.Size([6])) that is different to the input size (torch.Size([1341, 6])). This will likely lead to incorrect results due to broadcasting. Please ensure they have the same size.\n",
      "  loss = F.mse_loss(out, data.y)\n",
      "/tmp/ipykernel_28749/428982251.py:11: UserWarning: Using a target size (torch.Size([6])) that is different to the input size (torch.Size([1103, 6])). This will likely lead to incorrect results due to broadcasting. Please ensure they have the same size.\n",
      "  loss = F.mse_loss(out, data.y)\n",
      "/tmp/ipykernel_28749/428982251.py:11: UserWarning: Using a target size (torch.Size([6])) that is different to the input size (torch.Size([1843, 6])). This will likely lead to incorrect results due to broadcasting. Please ensure they have the same size.\n",
      "  loss = F.mse_loss(out, data.y)\n",
      "/tmp/ipykernel_28749/428982251.py:11: UserWarning: Using a target size (torch.Size([6])) that is different to the input size (torch.Size([1299, 6])). This will likely lead to incorrect results due to broadcasting. Please ensure they have the same size.\n",
      "  loss = F.mse_loss(out, data.y)\n",
      "/tmp/ipykernel_28749/428982251.py:11: UserWarning: Using a target size (torch.Size([6])) that is different to the input size (torch.Size([527, 6])). This will likely lead to incorrect results due to broadcasting. Please ensure they have the same size.\n",
      "  loss = F.mse_loss(out, data.y)\n",
      "/tmp/ipykernel_28749/428982251.py:11: UserWarning: Using a target size (torch.Size([6])) that is different to the input size (torch.Size([1817, 6])). This will likely lead to incorrect results due to broadcasting. Please ensure they have the same size.\n",
      "  loss = F.mse_loss(out, data.y)\n",
      "/tmp/ipykernel_28749/428982251.py:11: UserWarning: Using a target size (torch.Size([6])) that is different to the input size (torch.Size([267, 6])). This will likely lead to incorrect results due to broadcasting. Please ensure they have the same size.\n",
      "  loss = F.mse_loss(out, data.y)\n",
      "/tmp/ipykernel_28749/428982251.py:11: UserWarning: Using a target size (torch.Size([6])) that is different to the input size (torch.Size([921, 6])). This will likely lead to incorrect results due to broadcasting. Please ensure they have the same size.\n",
      "  loss = F.mse_loss(out, data.y)\n",
      "/tmp/ipykernel_28749/428982251.py:11: UserWarning: Using a target size (torch.Size([6])) that is different to the input size (torch.Size([711, 6])). This will likely lead to incorrect results due to broadcasting. Please ensure they have the same size.\n",
      "  loss = F.mse_loss(out, data.y)\n",
      "/tmp/ipykernel_28749/428982251.py:11: UserWarning: Using a target size (torch.Size([6])) that is different to the input size (torch.Size([1727, 6])). This will likely lead to incorrect results due to broadcasting. Please ensure they have the same size.\n",
      "  loss = F.mse_loss(out, data.y)\n",
      "/tmp/ipykernel_28749/428982251.py:11: UserWarning: Using a target size (torch.Size([6])) that is different to the input size (torch.Size([1995, 6])). This will likely lead to incorrect results due to broadcasting. Please ensure they have the same size.\n",
      "  loss = F.mse_loss(out, data.y)\n",
      "/tmp/ipykernel_28749/428982251.py:11: UserWarning: Using a target size (torch.Size([6])) that is different to the input size (torch.Size([661, 6])). This will likely lead to incorrect results due to broadcasting. Please ensure they have the same size.\n",
      "  loss = F.mse_loss(out, data.y)\n",
      "/tmp/ipykernel_28749/428982251.py:11: UserWarning: Using a target size (torch.Size([6])) that is different to the input size (torch.Size([651, 6])). This will likely lead to incorrect results due to broadcasting. Please ensure they have the same size.\n",
      "  loss = F.mse_loss(out, data.y)\n",
      "/tmp/ipykernel_28749/428982251.py:11: UserWarning: Using a target size (torch.Size([6])) that is different to the input size (torch.Size([663, 6])). This will likely lead to incorrect results due to broadcasting. Please ensure they have the same size.\n",
      "  loss = F.mse_loss(out, data.y)\n",
      "/tmp/ipykernel_28749/428982251.py:11: UserWarning: Using a target size (torch.Size([6])) that is different to the input size (torch.Size([1823, 6])). This will likely lead to incorrect results due to broadcasting. Please ensure they have the same size.\n",
      "  loss = F.mse_loss(out, data.y)\n",
      "/tmp/ipykernel_28749/428982251.py:11: UserWarning: Using a target size (torch.Size([6])) that is different to the input size (torch.Size([1095, 6])). This will likely lead to incorrect results due to broadcasting. Please ensure they have the same size.\n",
      "  loss = F.mse_loss(out, data.y)\n",
      "/tmp/ipykernel_28749/428982251.py:11: UserWarning: Using a target size (torch.Size([6])) that is different to the input size (torch.Size([1707, 6])). This will likely lead to incorrect results due to broadcasting. Please ensure they have the same size.\n",
      "  loss = F.mse_loss(out, data.y)\n",
      "/tmp/ipykernel_28749/428982251.py:11: UserWarning: Using a target size (torch.Size([6])) that is different to the input size (torch.Size([279, 6])). This will likely lead to incorrect results due to broadcasting. Please ensure they have the same size.\n",
      "  loss = F.mse_loss(out, data.y)\n",
      "/tmp/ipykernel_28749/428982251.py:11: UserWarning: Using a target size (torch.Size([6])) that is different to the input size (torch.Size([905, 6])). This will likely lead to incorrect results due to broadcasting. Please ensure they have the same size.\n",
      "  loss = F.mse_loss(out, data.y)\n",
      "/tmp/ipykernel_28749/428982251.py:11: UserWarning: Using a target size (torch.Size([6])) that is different to the input size (torch.Size([1793, 6])). This will likely lead to incorrect results due to broadcasting. Please ensure they have the same size.\n",
      "  loss = F.mse_loss(out, data.y)\n",
      "/tmp/ipykernel_28749/428982251.py:11: UserWarning: Using a target size (torch.Size([6])) that is different to the input size (torch.Size([1781, 6])). This will likely lead to incorrect results due to broadcasting. Please ensure they have the same size.\n",
      "  loss = F.mse_loss(out, data.y)\n",
      "/tmp/ipykernel_28749/428982251.py:11: UserWarning: Using a target size (torch.Size([6])) that is different to the input size (torch.Size([1119, 6])). This will likely lead to incorrect results due to broadcasting. Please ensure they have the same size.\n",
      "  loss = F.mse_loss(out, data.y)\n",
      "/tmp/ipykernel_28749/428982251.py:11: UserWarning: Using a target size (torch.Size([6])) that is different to the input size (torch.Size([427, 6])). This will likely lead to incorrect results due to broadcasting. Please ensure they have the same size.\n",
      "  loss = F.mse_loss(out, data.y)\n",
      "/tmp/ipykernel_28749/428982251.py:11: UserWarning: Using a target size (torch.Size([6])) that is different to the input size (torch.Size([1201, 6])). This will likely lead to incorrect results due to broadcasting. Please ensure they have the same size.\n",
      "  loss = F.mse_loss(out, data.y)\n",
      "/tmp/ipykernel_28749/428982251.py:11: UserWarning: Using a target size (torch.Size([6])) that is different to the input size (torch.Size([1979, 6])). This will likely lead to incorrect results due to broadcasting. Please ensure they have the same size.\n",
      "  loss = F.mse_loss(out, data.y)\n",
      "/tmp/ipykernel_28749/428982251.py:11: UserWarning: Using a target size (torch.Size([6])) that is different to the input size (torch.Size([1829, 6])). This will likely lead to incorrect results due to broadcasting. Please ensure they have the same size.\n",
      "  loss = F.mse_loss(out, data.y)\n",
      "/tmp/ipykernel_28749/428982251.py:11: UserWarning: Using a target size (torch.Size([6])) that is different to the input size (torch.Size([1315, 6])). This will likely lead to incorrect results due to broadcasting. Please ensure they have the same size.\n",
      "  loss = F.mse_loss(out, data.y)\n",
      "/tmp/ipykernel_28749/428982251.py:11: UserWarning: Using a target size (torch.Size([6])) that is different to the input size (torch.Size([945, 6])). This will likely lead to incorrect results due to broadcasting. Please ensure they have the same size.\n",
      "  loss = F.mse_loss(out, data.y)\n",
      "/tmp/ipykernel_28749/428982251.py:11: UserWarning: Using a target size (torch.Size([6])) that is different to the input size (torch.Size([1061, 6])). This will likely lead to incorrect results due to broadcasting. Please ensure they have the same size.\n",
      "  loss = F.mse_loss(out, data.y)\n",
      "/tmp/ipykernel_28749/428982251.py:11: UserWarning: Using a target size (torch.Size([6])) that is different to the input size (torch.Size([375, 6])). This will likely lead to incorrect results due to broadcasting. Please ensure they have the same size.\n",
      "  loss = F.mse_loss(out, data.y)\n",
      "/tmp/ipykernel_28749/428982251.py:11: UserWarning: Using a target size (torch.Size([6])) that is different to the input size (torch.Size([825, 6])). This will likely lead to incorrect results due to broadcasting. Please ensure they have the same size.\n",
      "  loss = F.mse_loss(out, data.y)\n",
      "/tmp/ipykernel_28749/428982251.py:11: UserWarning: Using a target size (torch.Size([6])) that is different to the input size (torch.Size([227, 6])). This will likely lead to incorrect results due to broadcasting. Please ensure they have the same size.\n",
      "  loss = F.mse_loss(out, data.y)\n",
      "/tmp/ipykernel_28749/428982251.py:11: UserWarning: Using a target size (torch.Size([6])) that is different to the input size (torch.Size([395, 6])). This will likely lead to incorrect results due to broadcasting. Please ensure they have the same size.\n",
      "  loss = F.mse_loss(out, data.y)\n",
      "/tmp/ipykernel_28749/428982251.py:11: UserWarning: Using a target size (torch.Size([6])) that is different to the input size (torch.Size([631, 6])). This will likely lead to incorrect results due to broadcasting. Please ensure they have the same size.\n",
      "  loss = F.mse_loss(out, data.y)\n",
      "/tmp/ipykernel_28749/428982251.py:11: UserWarning: Using a target size (torch.Size([6])) that is different to the input size (torch.Size([1621, 6])). This will likely lead to incorrect results due to broadcasting. Please ensure they have the same size.\n",
      "  loss = F.mse_loss(out, data.y)\n",
      "/tmp/ipykernel_28749/428982251.py:11: UserWarning: Using a target size (torch.Size([6])) that is different to the input size (torch.Size([1877, 6])). This will likely lead to incorrect results due to broadcasting. Please ensure they have the same size.\n",
      "  loss = F.mse_loss(out, data.y)\n",
      "/tmp/ipykernel_28749/428982251.py:11: UserWarning: Using a target size (torch.Size([6])) that is different to the input size (torch.Size([1657, 6])). This will likely lead to incorrect results due to broadcasting. Please ensure they have the same size.\n",
      "  loss = F.mse_loss(out, data.y)\n",
      "/tmp/ipykernel_28749/428982251.py:11: UserWarning: Using a target size (torch.Size([6])) that is different to the input size (torch.Size([1087, 6])). This will likely lead to incorrect results due to broadcasting. Please ensure they have the same size.\n",
      "  loss = F.mse_loss(out, data.y)\n",
      "/tmp/ipykernel_28749/428982251.py:11: UserWarning: Using a target size (torch.Size([6])) that is different to the input size (torch.Size([1077, 6])). This will likely lead to incorrect results due to broadcasting. Please ensure they have the same size.\n",
      "  loss = F.mse_loss(out, data.y)\n",
      "/tmp/ipykernel_28749/428982251.py:11: UserWarning: Using a target size (torch.Size([6])) that is different to the input size (torch.Size([353, 6])). This will likely lead to incorrect results due to broadcasting. Please ensure they have the same size.\n",
      "  loss = F.mse_loss(out, data.y)\n",
      "/tmp/ipykernel_28749/428982251.py:11: UserWarning: Using a target size (torch.Size([6])) that is different to the input size (torch.Size([449, 6])). This will likely lead to incorrect results due to broadcasting. Please ensure they have the same size.\n",
      "  loss = F.mse_loss(out, data.y)\n",
      "/tmp/ipykernel_28749/428982251.py:11: UserWarning: Using a target size (torch.Size([6])) that is different to the input size (torch.Size([1173, 6])). This will likely lead to incorrect results due to broadcasting. Please ensure they have the same size.\n",
      "  loss = F.mse_loss(out, data.y)\n",
      "/tmp/ipykernel_28749/428982251.py:11: UserWarning: Using a target size (torch.Size([6])) that is different to the input size (torch.Size([317, 6])). This will likely lead to incorrect results due to broadcasting. Please ensure they have the same size.\n",
      "  loss = F.mse_loss(out, data.y)\n",
      "/tmp/ipykernel_28749/428982251.py:11: UserWarning: Using a target size (torch.Size([6])) that is different to the input size (torch.Size([509, 6])). This will likely lead to incorrect results due to broadcasting. Please ensure they have the same size.\n",
      "  loss = F.mse_loss(out, data.y)\n",
      "/tmp/ipykernel_28749/428982251.py:11: UserWarning: Using a target size (torch.Size([6])) that is different to the input size (torch.Size([1539, 6])). This will likely lead to incorrect results due to broadcasting. Please ensure they have the same size.\n",
      "  loss = F.mse_loss(out, data.y)\n",
      "/tmp/ipykernel_28749/428982251.py:11: UserWarning: Using a target size (torch.Size([6])) that is different to the input size (torch.Size([455, 6])). This will likely lead to incorrect results due to broadcasting. Please ensure they have the same size.\n",
      "  loss = F.mse_loss(out, data.y)\n",
      "/tmp/ipykernel_28749/428982251.py:11: UserWarning: Using a target size (torch.Size([6])) that is different to the input size (torch.Size([1433, 6])). This will likely lead to incorrect results due to broadcasting. Please ensure they have the same size.\n",
      "  loss = F.mse_loss(out, data.y)\n",
      "/tmp/ipykernel_28749/428982251.py:11: UserWarning: Using a target size (torch.Size([6])) that is different to the input size (torch.Size([1185, 6])). This will likely lead to incorrect results due to broadcasting. Please ensure they have the same size.\n",
      "  loss = F.mse_loss(out, data.y)\n",
      "/tmp/ipykernel_28749/428982251.py:11: UserWarning: Using a target size (torch.Size([6])) that is different to the input size (torch.Size([397, 6])). This will likely lead to incorrect results due to broadcasting. Please ensure they have the same size.\n",
      "  loss = F.mse_loss(out, data.y)\n",
      "/tmp/ipykernel_28749/428982251.py:11: UserWarning: Using a target size (torch.Size([6])) that is different to the input size (torch.Size([1351, 6])). This will likely lead to incorrect results due to broadcasting. Please ensure they have the same size.\n",
      "  loss = F.mse_loss(out, data.y)\n",
      "/tmp/ipykernel_28749/428982251.py:11: UserWarning: Using a target size (torch.Size([6])) that is different to the input size (torch.Size([1915, 6])). This will likely lead to incorrect results due to broadcasting. Please ensure they have the same size.\n",
      "  loss = F.mse_loss(out, data.y)\n",
      "/tmp/ipykernel_28749/428982251.py:11: UserWarning: Using a target size (torch.Size([6])) that is different to the input size (torch.Size([1505, 6])). This will likely lead to incorrect results due to broadcasting. Please ensure they have the same size.\n",
      "  loss = F.mse_loss(out, data.y)\n",
      "/tmp/ipykernel_28749/428982251.py:11: UserWarning: Using a target size (torch.Size([6])) that is different to the input size (torch.Size([1439, 6])). This will likely lead to incorrect results due to broadcasting. Please ensure they have the same size.\n",
      "  loss = F.mse_loss(out, data.y)\n",
      "/tmp/ipykernel_28749/428982251.py:11: UserWarning: Using a target size (torch.Size([6])) that is different to the input size (torch.Size([845, 6])). This will likely lead to incorrect results due to broadcasting. Please ensure they have the same size.\n",
      "  loss = F.mse_loss(out, data.y)\n",
      "/tmp/ipykernel_28749/428982251.py:11: UserWarning: Using a target size (torch.Size([6])) that is different to the input size (torch.Size([823, 6])). This will likely lead to incorrect results due to broadcasting. Please ensure they have the same size.\n",
      "  loss = F.mse_loss(out, data.y)\n",
      "/tmp/ipykernel_28749/428982251.py:11: UserWarning: Using a target size (torch.Size([6])) that is different to the input size (torch.Size([1273, 6])). This will likely lead to incorrect results due to broadcasting. Please ensure they have the same size.\n",
      "  loss = F.mse_loss(out, data.y)\n",
      "/tmp/ipykernel_28749/428982251.py:11: UserWarning: Using a target size (torch.Size([6])) that is different to the input size (torch.Size([853, 6])). This will likely lead to incorrect results due to broadcasting. Please ensure they have the same size.\n",
      "  loss = F.mse_loss(out, data.y)\n",
      "/tmp/ipykernel_28749/428982251.py:11: UserWarning: Using a target size (torch.Size([6])) that is different to the input size (torch.Size([897, 6])). This will likely lead to incorrect results due to broadcasting. Please ensure they have the same size.\n",
      "  loss = F.mse_loss(out, data.y)\n",
      "/tmp/ipykernel_28749/428982251.py:11: UserWarning: Using a target size (torch.Size([6])) that is different to the input size (torch.Size([1645, 6])). This will likely lead to incorrect results due to broadcasting. Please ensure they have the same size.\n",
      "  loss = F.mse_loss(out, data.y)\n",
      "/tmp/ipykernel_28749/428982251.py:11: UserWarning: Using a target size (torch.Size([6])) that is different to the input size (torch.Size([1349, 6])). This will likely lead to incorrect results due to broadcasting. Please ensure they have the same size.\n",
      "  loss = F.mse_loss(out, data.y)\n",
      "/tmp/ipykernel_28749/428982251.py:11: UserWarning: Using a target size (torch.Size([6])) that is different to the input size (torch.Size([1709, 6])). This will likely lead to incorrect results due to broadcasting. Please ensure they have the same size.\n",
      "  loss = F.mse_loss(out, data.y)\n",
      "/tmp/ipykernel_28749/428982251.py:11: UserWarning: Using a target size (torch.Size([6])) that is different to the input size (torch.Size([1605, 6])). This will likely lead to incorrect results due to broadcasting. Please ensure they have the same size.\n",
      "  loss = F.mse_loss(out, data.y)\n",
      "/tmp/ipykernel_28749/428982251.py:11: UserWarning: Using a target size (torch.Size([6])) that is different to the input size (torch.Size([1283, 6])). This will likely lead to incorrect results due to broadcasting. Please ensure they have the same size.\n",
      "  loss = F.mse_loss(out, data.y)\n",
      "/tmp/ipykernel_28749/428982251.py:11: UserWarning: Using a target size (torch.Size([6])) that is different to the input size (torch.Size([1183, 6])). This will likely lead to incorrect results due to broadcasting. Please ensure they have the same size.\n",
      "  loss = F.mse_loss(out, data.y)\n",
      "/tmp/ipykernel_28749/428982251.py:11: UserWarning: Using a target size (torch.Size([6])) that is different to the input size (torch.Size([743, 6])). This will likely lead to incorrect results due to broadcasting. Please ensure they have the same size.\n",
      "  loss = F.mse_loss(out, data.y)\n",
      "/tmp/ipykernel_28749/428982251.py:11: UserWarning: Using a target size (torch.Size([6])) that is different to the input size (torch.Size([931, 6])). This will likely lead to incorrect results due to broadcasting. Please ensure they have the same size.\n",
      "  loss = F.mse_loss(out, data.y)\n",
      "/tmp/ipykernel_28749/428982251.py:11: UserWarning: Using a target size (torch.Size([6])) that is different to the input size (torch.Size([1765, 6])). This will likely lead to incorrect results due to broadcasting. Please ensure they have the same size.\n",
      "  loss = F.mse_loss(out, data.y)\n",
      "/tmp/ipykernel_28749/428982251.py:11: UserWarning: Using a target size (torch.Size([6])) that is different to the input size (torch.Size([699, 6])). This will likely lead to incorrect results due to broadcasting. Please ensure they have the same size.\n",
      "  loss = F.mse_loss(out, data.y)\n",
      "/tmp/ipykernel_28749/428982251.py:11: UserWarning: Using a target size (torch.Size([6])) that is different to the input size (torch.Size([909, 6])). This will likely lead to incorrect results due to broadcasting. Please ensure they have the same size.\n",
      "  loss = F.mse_loss(out, data.y)\n",
      "/tmp/ipykernel_28749/428982251.py:11: UserWarning: Using a target size (torch.Size([6])) that is different to the input size (torch.Size([1913, 6])). This will likely lead to incorrect results due to broadcasting. Please ensure they have the same size.\n",
      "  loss = F.mse_loss(out, data.y)\n",
      "/tmp/ipykernel_28749/428982251.py:11: UserWarning: Using a target size (torch.Size([6])) that is different to the input size (torch.Size([1753, 6])). This will likely lead to incorrect results due to broadcasting. Please ensure they have the same size.\n",
      "  loss = F.mse_loss(out, data.y)\n",
      "/tmp/ipykernel_28749/428982251.py:11: UserWarning: Using a target size (torch.Size([6])) that is different to the input size (torch.Size([1901, 6])). This will likely lead to incorrect results due to broadcasting. Please ensure they have the same size.\n",
      "  loss = F.mse_loss(out, data.y)\n",
      "/tmp/ipykernel_28749/428982251.py:11: UserWarning: Using a target size (torch.Size([6])) that is different to the input size (torch.Size([491, 6])). This will likely lead to incorrect results due to broadcasting. Please ensure they have the same size.\n",
      "  loss = F.mse_loss(out, data.y)\n",
      "/tmp/ipykernel_28749/428982251.py:11: UserWarning: Using a target size (torch.Size([6])) that is different to the input size (torch.Size([933, 6])). This will likely lead to incorrect results due to broadcasting. Please ensure they have the same size.\n",
      "  loss = F.mse_loss(out, data.y)\n",
      "/tmp/ipykernel_28749/428982251.py:11: UserWarning: Using a target size (torch.Size([6])) that is different to the input size (torch.Size([497, 6])). This will likely lead to incorrect results due to broadcasting. Please ensure they have the same size.\n",
      "  loss = F.mse_loss(out, data.y)\n",
      "/tmp/ipykernel_28749/428982251.py:11: UserWarning: Using a target size (torch.Size([6])) that is different to the input size (torch.Size([517, 6])). This will likely lead to incorrect results due to broadcasting. Please ensure they have the same size.\n",
      "  loss = F.mse_loss(out, data.y)\n",
      "/tmp/ipykernel_28749/428982251.py:11: UserWarning: Using a target size (torch.Size([6])) that is different to the input size (torch.Size([1289, 6])). This will likely lead to incorrect results due to broadcasting. Please ensure they have the same size.\n",
      "  loss = F.mse_loss(out, data.y)\n",
      "/tmp/ipykernel_28749/428982251.py:11: UserWarning: Using a target size (torch.Size([6])) that is different to the input size (torch.Size([625, 6])). This will likely lead to incorrect results due to broadcasting. Please ensure they have the same size.\n",
      "  loss = F.mse_loss(out, data.y)\n",
      "/tmp/ipykernel_28749/428982251.py:11: UserWarning: Using a target size (torch.Size([6])) that is different to the input size (torch.Size([707, 6])). This will likely lead to incorrect results due to broadcasting. Please ensure they have the same size.\n",
      "  loss = F.mse_loss(out, data.y)\n",
      "/tmp/ipykernel_28749/428982251.py:11: UserWarning: Using a target size (torch.Size([6])) that is different to the input size (torch.Size([1285, 6])). This will likely lead to incorrect results due to broadcasting. Please ensure they have the same size.\n",
      "  loss = F.mse_loss(out, data.y)\n",
      "/tmp/ipykernel_28749/428982251.py:11: UserWarning: Using a target size (torch.Size([6])) that is different to the input size (torch.Size([705, 6])). This will likely lead to incorrect results due to broadcasting. Please ensure they have the same size.\n",
      "  loss = F.mse_loss(out, data.y)\n",
      "/tmp/ipykernel_28749/428982251.py:11: UserWarning: Using a target size (torch.Size([6])) that is different to the input size (torch.Size([695, 6])). This will likely lead to incorrect results due to broadcasting. Please ensure they have the same size.\n",
      "  loss = F.mse_loss(out, data.y)\n",
      "/tmp/ipykernel_28749/428982251.py:11: UserWarning: Using a target size (torch.Size([6])) that is different to the input size (torch.Size([1417, 6])). This will likely lead to incorrect results due to broadcasting. Please ensure they have the same size.\n",
      "  loss = F.mse_loss(out, data.y)\n",
      "/tmp/ipykernel_28749/428982251.py:11: UserWarning: Using a target size (torch.Size([6])) that is different to the input size (torch.Size([1441, 6])). This will likely lead to incorrect results due to broadcasting. Please ensure they have the same size.\n",
      "  loss = F.mse_loss(out, data.y)\n",
      "/tmp/ipykernel_28749/428982251.py:11: UserWarning: Using a target size (torch.Size([6])) that is different to the input size (torch.Size([709, 6])). This will likely lead to incorrect results due to broadcasting. Please ensure they have the same size.\n",
      "  loss = F.mse_loss(out, data.y)\n",
      "/tmp/ipykernel_28749/428982251.py:11: UserWarning: Using a target size (torch.Size([6])) that is different to the input size (torch.Size([271, 6])). This will likely lead to incorrect results due to broadcasting. Please ensure they have the same size.\n",
      "  loss = F.mse_loss(out, data.y)\n",
      "/tmp/ipykernel_28749/428982251.py:11: UserWarning: Using a target size (torch.Size([6])) that is different to the input size (torch.Size([291, 6])). This will likely lead to incorrect results due to broadcasting. Please ensure they have the same size.\n",
      "  loss = F.mse_loss(out, data.y)\n",
      "/tmp/ipykernel_28749/428982251.py:11: UserWarning: Using a target size (torch.Size([6])) that is different to the input size (torch.Size([839, 6])). This will likely lead to incorrect results due to broadcasting. Please ensure they have the same size.\n",
      "  loss = F.mse_loss(out, data.y)\n",
      "/tmp/ipykernel_28749/428982251.py:11: UserWarning: Using a target size (torch.Size([6])) that is different to the input size (torch.Size([1811, 6])). This will likely lead to incorrect results due to broadcasting. Please ensure they have the same size.\n",
      "  loss = F.mse_loss(out, data.y)\n",
      "/tmp/ipykernel_28749/428982251.py:11: UserWarning: Using a target size (torch.Size([6])) that is different to the input size (torch.Size([1443, 6])). This will likely lead to incorrect results due to broadcasting. Please ensure they have the same size.\n",
      "  loss = F.mse_loss(out, data.y)\n"
     ]
    },
    {
     "name": "stdout",
     "output_type": "stream",
     "text": [
      "tensor(5.6296, grad_fn=<MseLossBackward0>)\n",
      "tensor(0.8253, grad_fn=<MseLossBackward0>)\n"
     ]
    }
   ],
   "source": [
    "device = \"cuda:2\"\n",
    "model = GCN()#.to(device=device)\n",
    "optimizer = torch.optim.Adam(model.parameters(), lr=0.01, weight_decay=5e-4)\n",
    "\n",
    "model.train()\n",
    "for epoch in range(2):\n",
    "    for data in dataloader:\n",
    "        data#.to(device=device)\n",
    "        optimizer.zero_grad()\n",
    "        out = model(data)#.to(device = device)\n",
    "        loss = F.mse_loss(out, data.y)\n",
    "        loss.backward()\n",
    "        optimizer.step()\n",
    "    print(loss)"
   ]
  },
  {
   "cell_type": "code",
   "execution_count": 68,
   "metadata": {},
   "outputs": [
    {
     "name": "stdout",
     "output_type": "stream",
     "text": [
      "torch.Size([1443, 4]) torch.Size([2, 2884])\n"
     ]
    },
    {
     "data": {
      "text/plain": [
       "tensor([[ 69.9019, -14.4969,  29.7104,   0.3676, -17.1890, -37.8881],\n",
       "        [ 58.0165, -32.0818,  35.2376, -52.1253,  48.8288, -99.8259],\n",
       "        [ 34.2155, -13.0467,   8.7604, -25.1159,  19.2250, -40.2748],\n",
       "        ...,\n",
       "        [ 20.1410, -15.2125,  27.5863,  -6.3295,  -1.3155, -46.5349],\n",
       "        [ 19.6350, -11.4280,  23.9995,  -7.3664,   1.2568, -52.1220],\n",
       "        [ 19.8630, -14.3157,  24.5136,  -6.0863,  -1.6879, -49.7893]],\n",
       "       grad_fn=<AddBackward0>)"
      ]
     },
     "execution_count": 68,
     "metadata": {},
     "output_type": "execute_result"
    }
   ],
   "source": [
    "model = GCN()\n",
    "model(data)"
   ]
  },
  {
   "cell_type": "code",
   "execution_count": 54,
   "metadata": {},
   "outputs": [
    {
     "name": "stdout",
     "output_type": "stream",
     "text": [
      "Data(x=[18, 4], edge_index=[2, 3700], y=[6])\n",
      "torch.Size([18, 4]) torch.Size([2, 3700])\n"
     ]
    },
    {
     "ename": "IndexError",
     "evalue": "index 1850 is out of bounds for dimension 0 with size 18",
     "output_type": "error",
     "traceback": [
      "\u001b[0;31m---------------------------------------------------------------------------\u001b[0m",
      "\u001b[0;31mIndexError\u001b[0m                                Traceback (most recent call last)",
      "\u001b[0;32m/tmp/ipykernel_28749/96671642.py\u001b[0m in \u001b[0;36m<module>\u001b[0;34m\u001b[0m\n\u001b[1;32m      8\u001b[0m \u001b[0;34m\u001b[0m\u001b[0m\n\u001b[1;32m      9\u001b[0m \u001b[0mmodel\u001b[0m \u001b[0;34m=\u001b[0m \u001b[0mGCN\u001b[0m\u001b[0;34m(\u001b[0m\u001b[0;34m)\u001b[0m\u001b[0;34m\u001b[0m\u001b[0;34m\u001b[0m\u001b[0m\n\u001b[0;32m---> 10\u001b[0;31m \u001b[0mmodel\u001b[0m\u001b[0;34m(\u001b[0m\u001b[0mdata\u001b[0m\u001b[0;34m)\u001b[0m\u001b[0;34m\u001b[0m\u001b[0;34m\u001b[0m\u001b[0m\n\u001b[0m",
      "\u001b[0;32m~/miniconda3/envs/pytorch/lib/python3.8/site-packages/torch/nn/modules/module.py\u001b[0m in \u001b[0;36m_call_impl\u001b[0;34m(self, *input, **kwargs)\u001b[0m\n\u001b[1;32m   1100\u001b[0m         if not (self._backward_hooks or self._forward_hooks or self._forward_pre_hooks or _global_backward_hooks\n\u001b[1;32m   1101\u001b[0m                 or _global_forward_hooks or _global_forward_pre_hooks):\n\u001b[0;32m-> 1102\u001b[0;31m             \u001b[0;32mreturn\u001b[0m \u001b[0mforward_call\u001b[0m\u001b[0;34m(\u001b[0m\u001b[0;34m*\u001b[0m\u001b[0minput\u001b[0m\u001b[0;34m,\u001b[0m \u001b[0;34m**\u001b[0m\u001b[0mkwargs\u001b[0m\u001b[0;34m)\u001b[0m\u001b[0;34m\u001b[0m\u001b[0;34m\u001b[0m\u001b[0m\n\u001b[0m\u001b[1;32m   1103\u001b[0m         \u001b[0;31m# Do not call functions when jit is used\u001b[0m\u001b[0;34m\u001b[0m\u001b[0;34m\u001b[0m\u001b[0;34m\u001b[0m\u001b[0m\n\u001b[1;32m   1104\u001b[0m         \u001b[0mfull_backward_hooks\u001b[0m\u001b[0;34m,\u001b[0m \u001b[0mnon_full_backward_hooks\u001b[0m \u001b[0;34m=\u001b[0m \u001b[0;34m[\u001b[0m\u001b[0;34m]\u001b[0m\u001b[0;34m,\u001b[0m \u001b[0;34m[\u001b[0m\u001b[0;34m]\u001b[0m\u001b[0;34m\u001b[0m\u001b[0;34m\u001b[0m\u001b[0m\n",
      "\u001b[0;32m/tmp/ipykernel_28749/2533955734.py\u001b[0m in \u001b[0;36mforward\u001b[0;34m(self, data)\u001b[0m\n\u001b[1;32m      9\u001b[0m         \u001b[0mx\u001b[0m\u001b[0;34m,\u001b[0m \u001b[0medge_index\u001b[0m \u001b[0;34m=\u001b[0m \u001b[0mdata\u001b[0m\u001b[0;34m.\u001b[0m\u001b[0mx\u001b[0m\u001b[0;34m,\u001b[0m \u001b[0mdata\u001b[0m\u001b[0;34m.\u001b[0m\u001b[0medge_index\u001b[0m\u001b[0;34m\u001b[0m\u001b[0;34m\u001b[0m\u001b[0m\n\u001b[1;32m     10\u001b[0m         \u001b[0mprint\u001b[0m\u001b[0;34m(\u001b[0m\u001b[0mx\u001b[0m\u001b[0;34m.\u001b[0m\u001b[0msize\u001b[0m\u001b[0;34m(\u001b[0m\u001b[0;34m)\u001b[0m\u001b[0;34m,\u001b[0m \u001b[0medge_index\u001b[0m\u001b[0;34m.\u001b[0m\u001b[0msize\u001b[0m\u001b[0;34m(\u001b[0m\u001b[0;34m)\u001b[0m\u001b[0;34m)\u001b[0m\u001b[0;34m\u001b[0m\u001b[0;34m\u001b[0m\u001b[0m\n\u001b[0;32m---> 11\u001b[0;31m         \u001b[0mx\u001b[0m \u001b[0;34m=\u001b[0m \u001b[0mself\u001b[0m\u001b[0;34m.\u001b[0m\u001b[0mconv1\u001b[0m\u001b[0;34m(\u001b[0m\u001b[0mx\u001b[0m\u001b[0;34m,\u001b[0m \u001b[0medge_index\u001b[0m\u001b[0;34m)\u001b[0m\u001b[0;34m\u001b[0m\u001b[0;34m\u001b[0m\u001b[0m\n\u001b[0m\u001b[1;32m     12\u001b[0m         \u001b[0mx\u001b[0m \u001b[0;34m=\u001b[0m \u001b[0mF\u001b[0m\u001b[0;34m.\u001b[0m\u001b[0mrelu\u001b[0m\u001b[0;34m(\u001b[0m\u001b[0mx\u001b[0m\u001b[0;34m)\u001b[0m\u001b[0;34m\u001b[0m\u001b[0;34m\u001b[0m\u001b[0m\n\u001b[1;32m     13\u001b[0m         \u001b[0mx\u001b[0m \u001b[0;34m=\u001b[0m \u001b[0mF\u001b[0m\u001b[0;34m.\u001b[0m\u001b[0mdropout\u001b[0m\u001b[0;34m(\u001b[0m\u001b[0mx\u001b[0m\u001b[0;34m,\u001b[0m \u001b[0mtraining\u001b[0m\u001b[0;34m=\u001b[0m\u001b[0mself\u001b[0m\u001b[0;34m.\u001b[0m\u001b[0mtraining\u001b[0m\u001b[0;34m)\u001b[0m\u001b[0;34m\u001b[0m\u001b[0;34m\u001b[0m\u001b[0m\n",
      "\u001b[0;32m~/miniconda3/envs/pytorch/lib/python3.8/site-packages/torch/nn/modules/module.py\u001b[0m in \u001b[0;36m_call_impl\u001b[0;34m(self, *input, **kwargs)\u001b[0m\n\u001b[1;32m   1100\u001b[0m         if not (self._backward_hooks or self._forward_hooks or self._forward_pre_hooks or _global_backward_hooks\n\u001b[1;32m   1101\u001b[0m                 or _global_forward_hooks or _global_forward_pre_hooks):\n\u001b[0;32m-> 1102\u001b[0;31m             \u001b[0;32mreturn\u001b[0m \u001b[0mforward_call\u001b[0m\u001b[0;34m(\u001b[0m\u001b[0;34m*\u001b[0m\u001b[0minput\u001b[0m\u001b[0;34m,\u001b[0m \u001b[0;34m**\u001b[0m\u001b[0mkwargs\u001b[0m\u001b[0;34m)\u001b[0m\u001b[0;34m\u001b[0m\u001b[0;34m\u001b[0m\u001b[0m\n\u001b[0m\u001b[1;32m   1103\u001b[0m         \u001b[0;31m# Do not call functions when jit is used\u001b[0m\u001b[0;34m\u001b[0m\u001b[0;34m\u001b[0m\u001b[0;34m\u001b[0m\u001b[0m\n\u001b[1;32m   1104\u001b[0m         \u001b[0mfull_backward_hooks\u001b[0m\u001b[0;34m,\u001b[0m \u001b[0mnon_full_backward_hooks\u001b[0m \u001b[0;34m=\u001b[0m \u001b[0;34m[\u001b[0m\u001b[0;34m]\u001b[0m\u001b[0;34m,\u001b[0m \u001b[0;34m[\u001b[0m\u001b[0;34m]\u001b[0m\u001b[0;34m\u001b[0m\u001b[0;34m\u001b[0m\u001b[0m\n",
      "\u001b[0;32m~/miniconda3/envs/pytorch/lib/python3.8/site-packages/torch_geometric/nn/conv/gcn_conv.py\u001b[0m in \u001b[0;36mforward\u001b[0;34m(self, x, edge_index, edge_weight)\u001b[0m\n\u001b[1;32m    160\u001b[0m                 \u001b[0mcache\u001b[0m \u001b[0;34m=\u001b[0m \u001b[0mself\u001b[0m\u001b[0;34m.\u001b[0m\u001b[0m_cached_edge_index\u001b[0m\u001b[0;34m\u001b[0m\u001b[0;34m\u001b[0m\u001b[0m\n\u001b[1;32m    161\u001b[0m                 \u001b[0;32mif\u001b[0m \u001b[0mcache\u001b[0m \u001b[0;32mis\u001b[0m \u001b[0;32mNone\u001b[0m\u001b[0;34m:\u001b[0m\u001b[0;34m\u001b[0m\u001b[0;34m\u001b[0m\u001b[0m\n\u001b[0;32m--> 162\u001b[0;31m                     edge_index, edge_weight = gcn_norm(  # yapf: disable\n\u001b[0m\u001b[1;32m    163\u001b[0m                         \u001b[0medge_index\u001b[0m\u001b[0;34m,\u001b[0m \u001b[0medge_weight\u001b[0m\u001b[0;34m,\u001b[0m \u001b[0mx\u001b[0m\u001b[0;34m.\u001b[0m\u001b[0msize\u001b[0m\u001b[0;34m(\u001b[0m\u001b[0mself\u001b[0m\u001b[0;34m.\u001b[0m\u001b[0mnode_dim\u001b[0m\u001b[0;34m)\u001b[0m\u001b[0;34m,\u001b[0m\u001b[0;34m\u001b[0m\u001b[0;34m\u001b[0m\u001b[0m\n\u001b[1;32m    164\u001b[0m                         self.improved, self.add_self_loops)\n",
      "\u001b[0;32m~/miniconda3/envs/pytorch/lib/python3.8/site-packages/torch_geometric/nn/conv/gcn_conv.py\u001b[0m in \u001b[0;36mgcn_norm\u001b[0;34m(edge_index, edge_weight, num_nodes, improved, add_self_loops, dtype)\u001b[0m\n\u001b[1;32m     54\u001b[0m \u001b[0;34m\u001b[0m\u001b[0m\n\u001b[1;32m     55\u001b[0m         \u001b[0;32mif\u001b[0m \u001b[0madd_self_loops\u001b[0m\u001b[0;34m:\u001b[0m\u001b[0;34m\u001b[0m\u001b[0;34m\u001b[0m\u001b[0m\n\u001b[0;32m---> 56\u001b[0;31m             edge_index, tmp_edge_weight = add_remaining_self_loops(\n\u001b[0m\u001b[1;32m     57\u001b[0m                 edge_index, edge_weight, fill_value, num_nodes)\n\u001b[1;32m     58\u001b[0m             \u001b[0;32massert\u001b[0m \u001b[0mtmp_edge_weight\u001b[0m \u001b[0;32mis\u001b[0m \u001b[0;32mnot\u001b[0m \u001b[0;32mNone\u001b[0m\u001b[0;34m\u001b[0m\u001b[0;34m\u001b[0m\u001b[0m\n",
      "\u001b[0;32m~/miniconda3/envs/pytorch/lib/python3.8/site-packages/torch_geometric/utils/loop.py\u001b[0m in \u001b[0;36madd_remaining_self_loops\u001b[0;34m(edge_index, edge_attr, fill_value, num_nodes)\u001b[0m\n\u001b[1;32m    221\u001b[0m \u001b[0;34m\u001b[0m\u001b[0m\n\u001b[1;32m    222\u001b[0m         \u001b[0minv_mask\u001b[0m \u001b[0;34m=\u001b[0m \u001b[0;34m~\u001b[0m\u001b[0mmask\u001b[0m\u001b[0;34m\u001b[0m\u001b[0;34m\u001b[0m\u001b[0m\n\u001b[0;32m--> 223\u001b[0;31m         \u001b[0mloop_attr\u001b[0m\u001b[0;34m[\u001b[0m\u001b[0medge_index\u001b[0m\u001b[0;34m[\u001b[0m\u001b[0;36m0\u001b[0m\u001b[0;34m]\u001b[0m\u001b[0;34m[\u001b[0m\u001b[0minv_mask\u001b[0m\u001b[0;34m]\u001b[0m\u001b[0;34m]\u001b[0m \u001b[0;34m=\u001b[0m \u001b[0medge_attr\u001b[0m\u001b[0;34m[\u001b[0m\u001b[0minv_mask\u001b[0m\u001b[0;34m]\u001b[0m\u001b[0;34m\u001b[0m\u001b[0;34m\u001b[0m\u001b[0m\n\u001b[0m\u001b[1;32m    224\u001b[0m \u001b[0;34m\u001b[0m\u001b[0m\n\u001b[1;32m    225\u001b[0m         \u001b[0medge_attr\u001b[0m \u001b[0;34m=\u001b[0m \u001b[0mtorch\u001b[0m\u001b[0;34m.\u001b[0m\u001b[0mcat\u001b[0m\u001b[0;34m(\u001b[0m\u001b[0;34m[\u001b[0m\u001b[0medge_attr\u001b[0m\u001b[0;34m[\u001b[0m\u001b[0mmask\u001b[0m\u001b[0;34m]\u001b[0m\u001b[0;34m,\u001b[0m \u001b[0mloop_attr\u001b[0m\u001b[0;34m]\u001b[0m\u001b[0;34m,\u001b[0m \u001b[0mdim\u001b[0m\u001b[0;34m=\u001b[0m\u001b[0;36m0\u001b[0m\u001b[0;34m)\u001b[0m\u001b[0;34m\u001b[0m\u001b[0;34m\u001b[0m\u001b[0m\n",
      "\u001b[0;31mIndexError\u001b[0m: index 1850 is out of bounds for dimension 0 with size 18"
     ]
    }
   ],
   "source": [
    "x = torch.rand((18,4), dtype=torch.float)\n",
    "l = [i for i in range(3700)]\n",
    "edge_index = torch.tensor([l,l], dtype=torch.long)\n",
    "y = torch.tensor([1,2,4,5,6,7], dtype=torch.float)\n",
    "\n",
    "data = Data(x = x, edge_index = edge_index, y = y)\n",
    "print(data)\n",
    "\n",
    "model = GCN()\n",
    "model(data)"
   ]
  },
  {
   "cell_type": "code",
   "execution_count": 119,
   "metadata": {},
   "outputs": [
    {
     "data": {
      "text/plain": [
       "tensor([ 0.8202, -1.3130,  0.9172, -1.0637,  0.6312, -0.1265], device='cuda:0',\n",
       "       grad_fn=<ReshapeAliasBackward0>)"
      ]
     },
     "execution_count": 119,
     "metadata": {},
     "output_type": "execute_result"
    }
   ],
   "source": [
    "flatten = torch.nn.Flatten(start_dim=-2)\n",
    "flatten(out)"
   ]
  }
 ],
 "metadata": {
  "interpreter": {
   "hash": "138d5174590f664ca777ea0c6a2c1e1765b79912a6535a48b658f2d2e9fc3576"
  },
  "kernelspec": {
   "display_name": "Python 3.8.12 64-bit ('pytorch': conda)",
   "language": "python",
   "name": "python3"
  },
  "language_info": {
   "codemirror_mode": {
    "name": "ipython",
    "version": 3
   },
   "file_extension": ".py",
   "mimetype": "text/x-python",
   "name": "python",
   "nbconvert_exporter": "python",
   "pygments_lexer": "ipython3",
   "version": "3.8.12"
  },
  "orig_nbformat": 4
 },
 "nbformat": 4,
 "nbformat_minor": 2
}
